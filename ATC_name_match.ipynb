{
 "cells": [
  {
   "cell_type": "code",
   "execution_count": null,
   "metadata": {},
   "outputs": [],
   "source": [
    "import pandas as pd\n",
    "import pyodbc as py\n",
    "import numpy as np\n",
    "import warnings\n",
    "import argparse\n",
    "\n",
    "import os\n",
    "from datetime import date\n",
    "import sys\n",
    "\n",
    "# SQL BAGLANTI BOLUMU\n",
    "sql_connection_str = (\n",
    "    'DRIVER={SQL Server}; SERVER=85.111.25.185; DATABASE=veribase_ff_dw; UID=enes.guzelaydin; PWD=Enes.2023'\n",
    ")\n",
    "\n",
    "connection = py.connect(sql_connection_str)\n",
    "cursor = connection.cursor()\n",
    "\n",
    "SQL_Query = (\"Select * from [dbo].[match_atc_data_full] \")\n",
    "SQL_Query = pd.read_sql_query(SQL_Query, connection)\n",
    "\n",
    "df = pd.read_sql_query(\"select * from [dbo].[match_atc_data_full]\",connection)\n"
   ]
  },
  {
   "cell_type": "code",
   "execution_count": null,
   "metadata": {},
   "outputs": [],
   "source": [
    "df.head()"
   ]
  },
  {
   "cell_type": "code",
   "execution_count": null,
   "metadata": {},
   "outputs": [],
   "source": [
    "\n",
    "from fuzzywuzzy import fuzz\n",
    "from fuzzywuzzy import process"
   ]
  },
  {
   "cell_type": "code",
   "execution_count": null,
   "metadata": {},
   "outputs": [],
   "source": [
    "pd.set_option('display.max_columns', None)\n",
    "pd.set_option('display.max_rows', None)"
   ]
  },
  {
   "cell_type": "code",
   "execution_count": null,
   "metadata": {},
   "outputs": [],
   "source": [
    "def get_ratio(row):\n",
    "    name = row['Prod']\n",
    "    name1 = row['PROD_DESC']\n",
    "    return fuzz.token_set_ratio(name, name1)\n",
    "\n",
    "#df[df.apply(get_ratio, axis=1) > 70].head(10)"
   ]
  },
  {
   "cell_type": "code",
   "execution_count": null,
   "metadata": {},
   "outputs": [],
   "source": [
    "df['score_prod'] =df.apply(get_ratio, axis=1)"
   ]
  },
  {
   "cell_type": "code",
   "execution_count": null,
   "metadata": {},
   "outputs": [],
   "source": [
    "df.sort_values(by=['score_prod'],ascending=True).head(100)"
   ]
  },
  {
   "cell_type": "code",
   "execution_count": null,
   "metadata": {},
   "outputs": [],
   "source": [
    "new=df.drop(df[df.score_prod < 50].index)\n",
    "new.shape"
   ]
  },
  {
   "cell_type": "code",
   "execution_count": null,
   "metadata": {},
   "outputs": [],
   "source": [
    "new.sort_values(by=['score_prod'],ascending=False).head(100)"
   ]
  },
  {
   "cell_type": "code",
   "execution_count": 21,
   "metadata": {},
   "outputs": [],
   "source": [
    "import sqlalchemy as sal\n",
    "from sqlalchemy import create_engine\n",
    "from sqlalchemy.engine import URL\n",
    "from sqlalchemy import event\n",
    "\n",
    "connection_url = URL.create(\"mssql+pyodbc\", query={\"odbc_connect\": sql_connection_str})\n",
    "engine = create_engine(connection_url)"
   ]
  },
  {
   "cell_type": "code",
   "execution_count": 22,
   "metadata": {},
   "outputs": [],
   "source": [
    "@event.listens_for(engine, \"before_cursor_execute\")\n",
    "def receive_before_cursor_execute(\n",
    "        conn, cursor, statement, params, context, executemany\n",
    "):\n",
    "    if executemany:\n",
    "        cursor.fast_executemany = True\n",
    "\n"
   ]
  },
  {
   "cell_type": "code",
   "execution_count": 23,
   "metadata": {},
   "outputs": [
    {
     "data": {
      "text/plain": [
       "-28"
      ]
     },
     "execution_count": 23,
     "metadata": {},
     "output_type": "execute_result"
    }
   ],
   "source": [
    "df.to_sql('match_atc_data_full2'\n",
    "                            ,engine\n",
    "                            ,index=False\n",
    "                            ,if_exists=\"append\"\n",
    "                            ,chunksize=10000\n",
    "                            ,schema=\"dbo\")\n"
   ]
  }
 ],
 "metadata": {
  "kernelspec": {
   "display_name": "base",
   "language": "python",
   "name": "python3"
  },
  "language_info": {
   "codemirror_mode": {
    "name": "ipython",
    "version": 3
   },
   "file_extension": ".py",
   "mimetype": "text/x-python",
   "name": "python",
   "nbconvert_exporter": "python",
   "pygments_lexer": "ipython3",
   "version": "3.9.13"
  },
  "orig_nbformat": 4
 },
 "nbformat": 4,
 "nbformat_minor": 2
}
